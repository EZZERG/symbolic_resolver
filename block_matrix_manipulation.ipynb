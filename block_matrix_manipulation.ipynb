{
 "cells": [
  {
   "cell_type": "code",
   "execution_count": 1,
   "metadata": {},
   "outputs": [
    {
     "name": "stdout",
     "output_type": "stream",
     "text": [
      "Sum of matrices:\n",
      "BlockMatrix(\n",
      "A + P,\n",
      "b + q,\n",
      "c + r,\n",
      "d + s)\n",
      "\n",
      "Product of matrices:\n",
      "BlockMatrix(\n",
      "A*P + b*r,\n",
      "s*b + A*q,\n",
      "d*r + c*P,\n",
      "d*s + Sum(c[0, _i_1]*q[_i_1, 0], (_i_1, 0, n - 2)))\n",
      "\n",
      "Inverse of first matrix:\n",
      "BlockMatrix(\n",
      "A**(-1) + 1/(d - Sum((A**(-1))[_i_1, _i_2]*b[_i_2, 0]*c[0, _i_1], (_i_1, 0, n - 2), (_i_2, 0, n - 2)))*A**(-1)*b*c*A**(-1),\n",
      "(-1/(d - Sum((A**(-1))[_i_1, _i_2]*b[_i_2, 0]*c[0, _i_1], (_i_1, 0, n - 2), (_i_2, 0, n - 2))))*A**(-1)*b,\n",
      "(-1/(d - Sum((A**(-1))[_i_1, _i_2]*b[_i_2, 0]*c[0, _i_1], (_i_1, 0, n - 2), (_i_2, 0, n - 2))))*c*A**(-1),\n",
      "1/(d - Sum((A**(-1))[_i_1, _i_2]*b[_i_2, 0]*c[0, _i_1], (_i_1, 0, n - 2), (_i_2, 0, n - 2))))\n"
     ]
    }
   ],
   "source": [
    "import sympy as sp\n",
    "from sympy import MatrixSymbol, Symbol, symbols\n",
    "from block_matrix import BlockMatrix, BlockVector, DiagonalBlockMatrix\n",
    "\n",
    "# Create dimension symbol\n",
    "n = symbols('n')\n",
    "inner_dim = n - 1\n",
    "\n",
    "# Create symbolic matrices with abstract dimension n\n",
    "m1 = MatrixSymbol('A', inner_dim, inner_dim)  # (n-1)x(n-1) symbolic matrix\n",
    "m2 = MatrixSymbol('b', inner_dim, 1)          # (n-1)x1 symbolic matrix\n",
    "m3 = MatrixSymbol('c', 1, inner_dim)          # 1x(n-1) symbolic matrix\n",
    "m4 = Symbol('d')                              # scalar symbol\n",
    "\n",
    "# Create block matrix\n",
    "M = BlockMatrix(m1, m2, m3, m4, n=n)\n",
    "\n",
    "# Create another symbolic block matrix\n",
    "p1 = MatrixSymbol('P', inner_dim, inner_dim)\n",
    "p2 = MatrixSymbol('q', inner_dim, 1)\n",
    "p3 = MatrixSymbol('r', 1, inner_dim)\n",
    "p4 = Symbol('s')\n",
    "\n",
    "N = BlockMatrix(p1, p2, p3, p4, n=n)\n",
    "\n",
    "# Perform operations\n",
    "sum_matrix = M + N\n",
    "product_matrix = M * N\n",
    "inverse_matrix = M.inverse()\n",
    "\n",
    "print(\"Sum of matrices:\")\n",
    "print(sum_matrix)\n",
    "print(\"\\nProduct of matrices:\")\n",
    "print(product_matrix)\n",
    "print(\"\\nInverse of first matrix:\")\n",
    "print(inverse_matrix) "
   ]
  },
  {
   "cell_type": "code",
   "execution_count": 2,
   "metadata": {},
   "outputs": [
    {
     "name": "stdout",
     "output_type": "stream",
     "text": [
      "Block Matrix M:\n",
      "BlockMatrix(\n",
      "A,\n",
      "b,\n",
      "c,\n",
      "d)\n",
      "\n",
      "Block Vector v:\n",
      "BlockVector(\n",
      "v,\n",
      "x)\n",
      "\n",
      "Matrix-vector product M*v:\n",
      "BlockVector(\n",
      "x*b + A*v,\n",
      "d*x + Sum(c[0, _i_1]*v[_i_1, 0], (_i_1, 0, n - 2)))\n"
     ]
    }
   ],
   "source": [
    "v_fix = MatrixSymbol('v', inner_dim, 1)      # (n-1)x1 vector\n",
    "x = Symbol('x')                              # scalar for last element\n",
    "\n",
    "# Create block vector\n",
    "v = BlockVector(v_fix, x, n=n)\n",
    "\n",
    "# Compute matrix-vector product\n",
    "result = M * v\n",
    "\n",
    "print(\"Block Matrix M:\")\n",
    "print(M)\n",
    "print(\"\\nBlock Vector v:\")\n",
    "print(v)\n",
    "print(\"\\nMatrix-vector product M*v:\")\n",
    "print(result)\n",
    "\n",
    "# Let's also test vector addition and inner product\n",
    "v2_fix = MatrixSymbol('w', inner_dim, 1)\n",
    "y = Symbol('y')\n",
    "v2 = BlockVector(v2_fix, y, n=n)\n",
    "\n",
    "# Vector addition\n",
    "sum_vec = v + v2\n",
    "\n",
    "# Inner product\n",
    "inner_prod = v.inner_product(v2)"
   ]
  },
  {
   "cell_type": "markdown",
   "metadata": {},
   "source": [
    "## Setting up variables for the problem"
   ]
  },
  {
   "cell_type": "code",
   "execution_count": 3,
   "metadata": {},
   "outputs": [],
   "source": [
    "# Create dimension symbol if not already created\n",
    "n = symbols('n')\n",
    "inner_dim = n - 1\n",
    "\n",
    "# Create components for block matrix K\n",
    "K1 = MatrixSymbol('K1', inner_dim, inner_dim)  # (n-1)x(n-1) matrix\n",
    "K2 = MatrixSymbol('K2', inner_dim, 1)          # (n-1)x1 matrix \n",
    "K3 = MatrixSymbol('K3', 1, inner_dim)          # 1x(n-1) matrix\n",
    "K4 = Symbol('K4')                              # scalar\n",
    "\n",
    "# Create block matrix K\n",
    "K = BlockMatrix(K1, K2, K3, K4, n=n)\n",
    "\n",
    "# Create diagonal matrices J and J_1\n",
    "J_fixed = MatrixSymbol('J_fixed', inner_dim, inner_dim)\n",
    "j_last = Symbol('j_last')\n",
    "j1_last = Symbol('j1_last')\n",
    "\n",
    "J = DiagonalBlockMatrix(J_fixed, j_last, n=n)\n",
    "J_1 = DiagonalBlockMatrix(J_fixed, j1_last, n=n)\n",
    "\n",
    "# Create vectors y, y_1 and m, m_1 with shared initial parts\n",
    "y_fixed = MatrixSymbol('y_fixed', inner_dim, 1)\n",
    "m_fixed = MatrixSymbol('m_fixed', inner_dim, 1)\n",
    "\n",
    "y_last = Symbol('y_last')\n",
    "y1_last = Symbol('y1_last')\n",
    "m_last = Symbol('m_last')\n",
    "m1_last = Symbol('m1_last')\n",
    "\n",
    "y = BlockVector(y_fixed, y_last, n=n)\n",
    "y_1 = BlockVector(y_fixed, y1_last, n=n)\n",
    "m = BlockVector(m_fixed, m_last, n=n)\n",
    "m_1 = BlockVector(m_fixed, m1_last, n=n)"
   ]
  }
 ],
 "metadata": {
  "kernelspec": {
   "display_name": ".venv",
   "language": "python",
   "name": "python3"
  },
  "language_info": {
   "codemirror_mode": {
    "name": "ipython",
    "version": 3
   },
   "file_extension": ".py",
   "mimetype": "text/x-python",
   "name": "python",
   "nbconvert_exporter": "python",
   "pygments_lexer": "ipython3",
   "version": "3.10.12"
  }
 },
 "nbformat": 4,
 "nbformat_minor": 2
}
