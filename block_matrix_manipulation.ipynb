{
 "cells": [
  {
   "cell_type": "code",
   "execution_count": 1,
   "metadata": {},
   "outputs": [
    {
     "name": "stdout",
     "output_type": "stream",
     "text": [
      "Sum of matrices:\n",
      "BlockMatrix(\n",
      "A + P,\n",
      "b + q,\n",
      "c + r,\n",
      "d + s)\n",
      "\n",
      "Product of matrices:\n",
      "BlockMatrix(\n",
      "A*P + b*r,\n",
      "s*b + A*q,\n",
      "d*r + c*P,\n",
      "d*s + c[0, 0]*q[0, 0] + c[0, 1]*q[1, 0])\n",
      "\n",
      "Inverse of first matrix:\n",
      "BlockMatrix(\n",
      "A**(-1) + 1/(d - (A[0, 0]*c[0, 1]/(A[0, 0]*A[1, 1] - A[0, 1]*A[1, 0]) - A[0, 1]*c[0, 0]/(A[0, 0]*A[1, 1] - A[0, 1]*A[1, 0]))*b[1, 0] - (-A[1, 0]*c[0, 1]/(A[0, 0]*A[1, 1] - A[0, 1]*A[1, 0]) + A[1, 1]*c[0, 0]/(A[0, 0]*A[1, 1] - A[0, 1]*A[1, 0]))*b[0, 0])*A**(-1)*b*c*A**(-1),\n",
      "(-1/(d - (A[0, 0]*c[0, 1]/(A[0, 0]*A[1, 1] - A[0, 1]*A[1, 0]) - A[0, 1]*c[0, 0]/(A[0, 0]*A[1, 1] - A[0, 1]*A[1, 0]))*b[1, 0] - (-A[1, 0]*c[0, 1]/(A[0, 0]*A[1, 1] - A[0, 1]*A[1, 0]) + A[1, 1]*c[0, 0]/(A[0, 0]*A[1, 1] - A[0, 1]*A[1, 0]))*b[0, 0]))*A**(-1)*b,\n",
      "(-1/(d - (A[0, 0]*c[0, 1]/(A[0, 0]*A[1, 1] - A[0, 1]*A[1, 0]) - A[0, 1]*c[0, 0]/(A[0, 0]*A[1, 1] - A[0, 1]*A[1, 0]))*b[1, 0] - (-A[1, 0]*c[0, 1]/(A[0, 0]*A[1, 1] - A[0, 1]*A[1, 0]) + A[1, 1]*c[0, 0]/(A[0, 0]*A[1, 1] - A[0, 1]*A[1, 0]))*b[0, 0]))*c*A**(-1),\n",
      "1/(d - (A[0, 0]*c[0, 1]/(A[0, 0]*A[1, 1] - A[0, 1]*A[1, 0]) - A[0, 1]*c[0, 0]/(A[0, 0]*A[1, 1] - A[0, 1]*A[1, 0]))*b[1, 0] - (-A[1, 0]*c[0, 1]/(A[0, 0]*A[1, 1] - A[0, 1]*A[1, 0]) + A[1, 1]*c[0, 0]/(A[0, 0]*A[1, 1] - A[0, 1]*A[1, 0]))*b[0, 0]))\n"
     ]
    }
   ],
   "source": [
    "from sympy import MatrixSymbol, Symbol\n",
    "from block_matrix import BlockMatrix\n",
    "\n",
    "# Create symbolic matrices for n=3 (so m1 is 2x2)\n",
    "m1 = MatrixSymbol('A', 2, 2)  # 2x2 symbolic matrix\n",
    "m2 = MatrixSymbol('b', 2, 1)  # 2x1 symbolic matrix\n",
    "m3 = MatrixSymbol('c', 1, 2)  # 1x2 symbolic matrix\n",
    "m4 = Symbol('d')              # scalar symbol\n",
    "\n",
    "# Create block matrix\n",
    "M = BlockMatrix(m1, m2, m3, m4)\n",
    "\n",
    "# Create another symbolic block matrix\n",
    "p1 = MatrixSymbol('P', 2, 2)\n",
    "p2 = MatrixSymbol('q', 2, 1)\n",
    "p3 = MatrixSymbol('r', 1, 2)\n",
    "p4 = Symbol('s')\n",
    "\n",
    "N = BlockMatrix(p1, p2, p3, p4)\n",
    "\n",
    "# Perform operations\n",
    "sum_matrix = M + N\n",
    "product_matrix = M * N\n",
    "inverse_matrix = M.inverse()\n",
    "\n",
    "print(\"Sum of matrices:\")\n",
    "print(sum_matrix)\n",
    "print(\"\\nProduct of matrices:\")\n",
    "print(product_matrix)\n",
    "print(\"\\nInverse of first matrix:\")\n",
    "print(inverse_matrix) "
   ]
  },
  {
   "cell_type": "code",
   "execution_count": 2,
   "metadata": {},
   "outputs": [
    {
     "data": {
      "text/latex": [
       "$\\displaystyle A P + b r$"
      ],
      "text/plain": [
       "A*P + b*r"
      ]
     },
     "execution_count": 2,
     "metadata": {},
     "output_type": "execute_result"
    }
   ],
   "source": [
    "product_matrix.m1"
   ]
  },
  {
   "cell_type": "code",
   "execution_count": 3,
   "metadata": {},
   "outputs": [
    {
     "data": {
      "text/latex": [
       "$\\displaystyle \\left[\\begin{matrix}A P + b r & s b + A q\\\\d r + c P & \\left[\\begin{matrix}d s + {c}_{0,0} {q}_{0,0} + {c}_{0,1} {q}_{1,0}\\end{matrix}\\right]\\end{matrix}\\right]$"
      ],
      "text/plain": [
       "<block_matrix.BlockMatrix at 0x7f16c439cd30>"
      ]
     },
     "execution_count": 3,
     "metadata": {},
     "output_type": "execute_result"
    }
   ],
   "source": [
    "product_matrix"
   ]
  },
  {
   "cell_type": "code",
   "execution_count": 4,
   "metadata": {},
   "outputs": [
    {
     "data": {
      "text/latex": [
       "$\\displaystyle \\left[\\begin{matrix}A & b\\\\c & \\left[\\begin{matrix}d\\end{matrix}\\right]\\end{matrix}\\right]$"
      ],
      "text/plain": [
       "<block_matrix.BlockMatrix at 0x7f16c5724a00>"
      ]
     },
     "execution_count": 4,
     "metadata": {},
     "output_type": "execute_result"
    }
   ],
   "source": [
    "M"
   ]
  },
  {
   "cell_type": "code",
   "execution_count": 5,
   "metadata": {},
   "outputs": [
    {
     "data": {
      "text/latex": [
       "$\\displaystyle \\left[\\begin{matrix}P & q\\\\r & \\left[\\begin{matrix}s\\end{matrix}\\right]\\end{matrix}\\right]$"
      ],
      "text/plain": [
       "<block_matrix.BlockMatrix at 0x7f16c5724790>"
      ]
     },
     "execution_count": 5,
     "metadata": {},
     "output_type": "execute_result"
    }
   ],
   "source": [
    "N"
   ]
  },
  {
   "cell_type": "code",
   "execution_count": null,
   "metadata": {},
   "outputs": [],
   "source": []
  }
 ],
 "metadata": {
  "kernelspec": {
   "display_name": ".venv",
   "language": "python",
   "name": "python3"
  },
  "language_info": {
   "codemirror_mode": {
    "name": "ipython",
    "version": 3
   },
   "file_extension": ".py",
   "mimetype": "text/x-python",
   "name": "python",
   "nbconvert_exporter": "python",
   "pygments_lexer": "ipython3",
   "version": "3.10.12"
  }
 },
 "nbformat": 4,
 "nbformat_minor": 2
}
