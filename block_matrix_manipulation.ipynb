{
 "cells": [
  {
   "cell_type": "code",
   "execution_count": 2,
   "metadata": {},
   "outputs": [
    {
     "name": "stdout",
     "output_type": "stream",
     "text": [
      "Sum of matrices:\n",
      "BlockMatrix(\n",
      "A + P,\n",
      "b + q,\n",
      "c + r,\n",
      "d + s)\n",
      "\n",
      "Product of matrices:\n",
      "BlockMatrix(\n",
      "A*P + b*r,\n",
      "s*b + A*q,\n",
      "d*r + c*P,\n",
      "d*s + Trace(c*q))\n",
      "\n",
      "Inverse of first matrix:\n",
      "BlockMatrix(\n",
      "A**(-1) + 1/(d - Trace(c*A**(-1)*b))*A**(-1)*b*c*A**(-1),\n",
      "(-1/(d - Trace(c*A**(-1)*b)))*A**(-1)*b,\n",
      "(-1/(d - Trace(c*A**(-1)*b)))*c*A**(-1),\n",
      "1/(d - Trace(c*A**(-1)*b)))\n"
     ]
    }
   ],
   "source": [
    "from sympy import MatrixSymbol, Symbol, symbols\n",
    "from block_matrix import BlockMatrix\n",
    "\n",
    "# Create dimension symbol\n",
    "n = symbols('n')\n",
    "inner_dim = n - 1\n",
    "\n",
    "# Create symbolic matrices with abstract dimension n\n",
    "m1 = MatrixSymbol('A', inner_dim, inner_dim)  # (n-1)x(n-1) symbolic matrix\n",
    "m2 = MatrixSymbol('b', inner_dim, 1)          # (n-1)x1 symbolic matrix\n",
    "m3 = MatrixSymbol('c', 1, inner_dim)          # 1x(n-1) symbolic matrix\n",
    "m4 = Symbol('d')                              # scalar symbol\n",
    "\n",
    "# Create block matrix\n",
    "M = BlockMatrix(m1, m2, m3, m4, n=n)\n",
    "\n",
    "# Create another symbolic block matrix\n",
    "p1 = MatrixSymbol('P', inner_dim, inner_dim)\n",
    "p2 = MatrixSymbol('q', inner_dim, 1)\n",
    "p3 = MatrixSymbol('r', 1, inner_dim)\n",
    "p4 = Symbol('s')\n",
    "\n",
    "N = BlockMatrix(p1, p2, p3, p4, n=n)\n",
    "\n",
    "# Perform operations\n",
    "sum_matrix = M + N\n",
    "product_matrix = M * N\n",
    "inverse_matrix = M.inverse()\n",
    "\n",
    "print(\"Sum of matrices:\")\n",
    "print(sum_matrix)\n",
    "print(\"\\nProduct of matrices:\")\n",
    "print(product_matrix)\n",
    "print(\"\\nInverse of first matrix:\")\n",
    "print(inverse_matrix) "
   ]
  },
  {
   "cell_type": "code",
   "execution_count": 4,
   "metadata": {},
   "outputs": [
    {
     "data": {
      "text/latex": [
       "$\\displaystyle \\sum_{i_{1}=0}^{n - 2} {c}_{0,i_{1}} {q}_{i_{1},0}$"
      ],
      "text/plain": [
       "Sum(c[0, _i_1]*q[_i_1, 0], (_i_1, 0, n - 2))"
      ]
     },
     "execution_count": 4,
     "metadata": {},
     "output_type": "execute_result"
    }
   ],
   "source": [
    "(M.m3 * N.m2)[0]"
   ]
  },
  {
   "cell_type": "code",
   "execution_count": 7,
   "metadata": {},
   "outputs": [
    {
     "data": {
      "text/latex": [
       "$\\displaystyle \\left[\\begin{matrix}\\left(s b + A q\\right) c + \\left(A P + b r\\right) A & d \\left(s b + A q\\right) + \\left(A P + b r\\right) b\\\\\\left(d s + \\operatorname{tr}\\left(c q \\right)\\right) c + \\left(d r + c P\\right) A & \\left[\\begin{matrix}d \\left(d s + \\operatorname{tr}\\left(c q \\right)\\right) + \\operatorname{tr}\\left(\\left(d r + c P\\right) b \\right)\\end{matrix}\\right]\\end{matrix}\\right]$"
      ],
      "text/plain": [
       "<block_matrix.BlockMatrix at 0x7fd665096bf0>"
      ]
     },
     "execution_count": 7,
     "metadata": {},
     "output_type": "execute_result"
    }
   ],
   "source": [
    "prodcut_2 = product_matrix * M\n",
    "prodcut_2"
   ]
  },
  {
   "cell_type": "code",
   "execution_count": 8,
   "metadata": {},
   "outputs": [
    {
     "data": {
      "text/latex": [
       "$\\displaystyle \\left[\\begin{matrix}A P + b r & s b + A q\\\\d r + c P & \\left[\\begin{matrix}d s + \\operatorname{tr}\\left(c q \\right)\\end{matrix}\\right]\\end{matrix}\\right]$"
      ],
      "text/plain": [
       "<block_matrix.BlockMatrix at 0x7fd6650985b0>"
      ]
     },
     "execution_count": 8,
     "metadata": {},
     "output_type": "execute_result"
    }
   ],
   "source": [
    "product_matrix"
   ]
  },
  {
   "cell_type": "code",
   "execution_count": 9,
   "metadata": {},
   "outputs": [
    {
     "data": {
      "text/latex": [
       "$\\displaystyle \\left[\\begin{matrix}A^{-1} + \\frac{1}{d - \\operatorname{tr}\\left(c A^{-1} b \\right)} A^{-1} b c A^{-1} & - \\frac{1}{d - \\operatorname{tr}\\left(c A^{-1} b \\right)} A^{-1} b\\\\- \\frac{1}{d - \\operatorname{tr}\\left(c A^{-1} b \\right)} c A^{-1} & \\left[\\begin{matrix}\\frac{1}{d - \\operatorname{tr}\\left(c A^{-1} b \\right)}\\end{matrix}\\right]\\end{matrix}\\right]$"
      ],
      "text/plain": [
       "<block_matrix.BlockMatrix at 0x7fd665084d30>"
      ]
     },
     "execution_count": 9,
     "metadata": {},
     "output_type": "execute_result"
    }
   ],
   "source": [
    "M.inverse()"
   ]
  },
  {
   "cell_type": "code",
   "execution_count": null,
   "metadata": {},
   "outputs": [],
   "source": [
    "import sympy as sp\n",
    "sp.simplify(prodcut_2.m4)"
   ]
  },
  {
   "cell_type": "code",
   "execution_count": null,
   "metadata": {},
   "outputs": [],
   "source": [
    "d = sp.symbols('d')\n",
    "sp.collect(sp.expand(prodcut_2.m4), d)"
   ]
  },
  {
   "cell_type": "code",
   "execution_count": null,
   "metadata": {},
   "outputs": [],
   "source": []
  }
 ],
 "metadata": {
  "kernelspec": {
   "display_name": ".venv",
   "language": "python",
   "name": "python3"
  },
  "language_info": {
   "codemirror_mode": {
    "name": "ipython",
    "version": 3
   },
   "file_extension": ".py",
   "mimetype": "text/x-python",
   "name": "python",
   "nbconvert_exporter": "python",
   "pygments_lexer": "ipython3",
   "version": "3.10.12"
  }
 },
 "nbformat": 4,
 "nbformat_minor": 2
}
