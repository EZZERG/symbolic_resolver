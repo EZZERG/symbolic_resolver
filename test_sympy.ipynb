{
 "cells": [
  {
   "cell_type": "code",
   "execution_count": 1,
   "metadata": {},
   "outputs": [],
   "source": [
    "import sympy as sp\n",
    "from sympy import Matrix, BlockMatrix, MatrixSymbol\n",
    "\n",
    "import sympy_matrix_utils as sp_utils "
   ]
  },
  {
   "cell_type": "markdown",
   "metadata": {},
   "source": [
    "## Testing the methods"
   ]
  },
  {
   "cell_type": "code",
   "execution_count": 2,
   "metadata": {},
   "outputs": [
    {
     "data": {
      "text/latex": [
       "$\\displaystyle \\left[\\begin{matrix}y_{fix}\\\\y_{1}\\end{matrix}\\right]$"
      ],
      "text/plain": [
       "Matrix([\n",
       "[y_fix],\n",
       "[  y_1]])"
      ]
     },
     "execution_count": 2,
     "metadata": {},
     "output_type": "execute_result"
    }
   ],
   "source": [
    "y_1 = sp_utils.create_block_vector('y_1', V_fix_symbol='y_fix')\n",
    "y_1"
   ]
  },
  {
   "cell_type": "code",
   "execution_count": 3,
   "metadata": {},
   "outputs": [
    {
     "data": {
      "text/latex": [
       "$\\displaystyle \\left[\\begin{matrix}k_{1} & k_{2}\\\\k_{3} & k_{4}\\end{matrix}\\right]$"
      ],
      "text/plain": [
       "Matrix([\n",
       "[k1, k2],\n",
       "[k3, k4]])"
      ]
     },
     "execution_count": 3,
     "metadata": {},
     "output_type": "execute_result"
    }
   ],
   "source": [
    "K = sp_utils.create_block_matrix()\n",
    "K"
   ]
  },
  {
   "cell_type": "code",
   "execution_count": 4,
   "metadata": {},
   "outputs": [
    {
     "data": {
      "text/latex": [
       "$\\displaystyle \\left[\\begin{matrix}J & 0\\\\0 & j_{1}\\end{matrix}\\right]$"
      ],
      "text/plain": [
       "Matrix([\n",
       "[J,   0],\n",
       "[0, j_1]])"
      ]
     },
     "execution_count": 4,
     "metadata": {},
     "output_type": "execute_result"
    }
   ],
   "source": [
    "J = sp_utils.create_block_diagonal_matrix('J', 'j_1')\n",
    "J"
   ]
  },
  {
   "cell_type": "code",
   "execution_count": 5,
   "metadata": {},
   "outputs": [
    {
     "data": {
      "text/latex": [
       "$\\displaystyle \\left[\\begin{matrix}J + k_{1} & k_{2}\\\\k_{3} & j_{1} + k_{4}\\end{matrix}\\right]$"
      ],
      "text/plain": [
       "Matrix([\n",
       "[J + k1,       k2],\n",
       "[    k3, j_1 + k4]])"
      ]
     },
     "execution_count": 5,
     "metadata": {},
     "output_type": "execute_result"
    }
   ],
   "source": [
    "sp_utils.block_matrix_matrix_addition(K, J)"
   ]
  },
  {
   "cell_type": "code",
   "execution_count": 6,
   "metadata": {},
   "outputs": [
    {
     "data": {
      "text/latex": [
       "$\\displaystyle \\left[\\begin{matrix}k_{1} y_{fix} + k_{2} y_{1}\\\\k_{3} y_{fix} + k_{4} y_{1}\\end{matrix}\\right]$"
      ],
      "text/plain": [
       "Matrix([\n",
       "[k1*y_fix + k2*y_1],\n",
       "[k3*y_fix + k4*y_1]])"
      ]
     },
     "execution_count": 6,
     "metadata": {},
     "output_type": "execute_result"
    }
   ],
   "source": [
    "sp_utils.block_matrix_vector_product(K, y_1)"
   ]
  },
  {
   "cell_type": "code",
   "execution_count": 7,
   "metadata": {},
   "outputs": [
    {
     "data": {
      "text/latex": [
       "$\\displaystyle \\left[\\begin{matrix}\\sigma_{2} k_{1} & \\sigma_{2} k_{2}\\\\\\sigma_{2} k_{3} & \\sigma_{2} k_{4}\\end{matrix}\\right]$"
      ],
      "text/plain": [
       "Matrix([\n",
       "[sigma_2*k1, sigma_2*k2],\n",
       "[sigma_2*k3, sigma_2*k4]])"
      ]
     },
     "execution_count": 7,
     "metadata": {},
     "output_type": "execute_result"
    }
   ],
   "source": [
    "sigma_2 = sp.Symbol('sigma_2')\n",
    "sp_utils.scalar_block_matrix_product(sigma_2, K)"
   ]
  },
  {
   "cell_type": "code",
   "execution_count": 8,
   "metadata": {},
   "outputs": [
    {
     "data": {
      "text/latex": [
       "$\\displaystyle \\left[\\begin{matrix}k_{1} J & k_{2} j_{1}\\\\k_{3} J & k_{4} j_{1}\\end{matrix}\\right]$"
      ],
      "text/plain": [
       "Matrix([\n",
       "[k1*J, k2*j_1],\n",
       "[k3*J, k4*j_1]])"
      ]
     },
     "execution_count": 8,
     "metadata": {},
     "output_type": "execute_result"
    }
   ],
   "source": [
    "sp_utils.block_matrix_matrix_product(K, J)\n"
   ]
  },
  {
   "cell_type": "code",
   "execution_count": 9,
   "metadata": {},
   "outputs": [
    {
     "data": {
      "text/latex": [
       "$\\displaystyle \\left[\\begin{matrix}k_{1}^{2} + k_{2} k_{3} & k_{1} k_{2} + k_{2} k_{4}\\\\k_{3} k_{1} + k_{4} k_{3} & k_{4}^{2} + k_{3} k_{2}\\end{matrix}\\right]$"
      ],
      "text/plain": [
       "Matrix([\n",
       "[k1**2 + k2*k3, k1*k2 + k2*k4],\n",
       "[k3*k1 + k4*k3, k4**2 + k3*k2]])"
      ]
     },
     "execution_count": 9,
     "metadata": {},
     "output_type": "execute_result"
    }
   ],
   "source": [
    "sp_utils.block_matrix_matrix_product(K, K)"
   ]
  },
  {
   "cell_type": "code",
   "execution_count": 10,
   "metadata": {},
   "outputs": [
    {
     "data": {
      "text/latex": [
       "$\\displaystyle \\left[\\begin{matrix}J k_{1} & J k_{2}\\\\j_{1} k_{3} & j_{1} k_{4}\\end{matrix}\\right]$"
      ],
      "text/plain": [
       "Matrix([\n",
       "[  J*k1,   J*k2],\n",
       "[j_1*k3, j_1*k4]])"
      ]
     },
     "execution_count": 10,
     "metadata": {},
     "output_type": "execute_result"
    }
   ],
   "source": [
    "sp_utils.block_matrix_matrix_product(J, K)"
   ]
  },
  {
   "cell_type": "code",
   "execution_count": 11,
   "metadata": {},
   "outputs": [
    {
     "data": {
      "text/latex": [
       "$\\displaystyle \\left[\\begin{matrix}J^{2} & 0\\\\0 & j_{1}^{2}\\end{matrix}\\right]$"
      ],
      "text/plain": [
       "Matrix([\n",
       "[J**2,      0],\n",
       "[   0, j_1**2]])"
      ]
     },
     "execution_count": 11,
     "metadata": {},
     "output_type": "execute_result"
    }
   ],
   "source": [
    "sp_utils.block_matrix_matrix_product(J, J)"
   ]
  },
  {
   "cell_type": "code",
   "execution_count": 12,
   "metadata": {},
   "outputs": [
    {
     "data": {
      "text/latex": [
       "$\\displaystyle \\left[\\begin{matrix}k_{1}^{-1} + \\frac{1}{- k3k1invk2 + k_{4}} k_{1}^{-1} k_{2} k_{3} k_{1}^{-1} & - \\frac{1}{- k3k1invk2 + k_{4}} k_{1}^{-1} k_{2}\\\\- \\frac{1}{- k3k1invk2 + k_{4}} k_{3} k_{1}^{-1} & \\left[\\begin{matrix}\\frac{1}{- k3k1invk2 + k_{4}}\\end{matrix}\\right]\\end{matrix}\\right]$"
      ],
      "text/plain": [
       "Matrix([\n",
       "[k1**(-1) + 1/(-k3k1invk2 + k4)*k1**(-1)*k2*k3*k1**(-1), (-1/(-k3k1invk2 + k4))*k1**(-1)*k2],\n",
       "[                    (-1/(-k3k1invk2 + k4))*k3*k1**(-1),    Matrix([[1/(-k3k1invk2 + k4)]])]])"
      ]
     },
     "execution_count": 12,
     "metadata": {},
     "output_type": "execute_result"
    }
   ],
   "source": [
    "sp_utils.inverse_block_matrix(K)"
   ]
  },
  {
   "cell_type": "code",
   "execution_count": 13,
   "metadata": {},
   "outputs": [
    {
     "data": {
      "text/latex": [
       "$\\displaystyle \\left[\\begin{matrix}y_{fix}^{T} & y_{1}^{T}\\end{matrix}\\right]$"
      ],
      "text/plain": [
       "Matrix([[y_fix.T, y_1.T]])"
      ]
     },
     "execution_count": 13,
     "metadata": {},
     "output_type": "execute_result"
    }
   ],
   "source": [
    "sp_utils.transpose_vector(y_1)"
   ]
  },
  {
   "cell_type": "code",
   "execution_count": 14,
   "metadata": {},
   "outputs": [
    {
     "data": {
      "text/latex": [
       "$\\displaystyle \\left[\\begin{matrix}k_{1}^{T} & k_{3}^{T}\\\\k_{2}^{T} & k_{4}\\end{matrix}\\right]$"
      ],
      "text/plain": [
       "Matrix([\n",
       "[k1.T, k3.T],\n",
       "[k2.T,   k4]])"
      ]
     },
     "execution_count": 14,
     "metadata": {},
     "output_type": "execute_result"
    }
   ],
   "source": [
    "sp_utils.transpose_matrix(K)"
   ]
  },
  {
   "cell_type": "code",
   "execution_count": 15,
   "metadata": {},
   "outputs": [
    {
     "data": {
      "text/plain": [
       "(y_fix, y_1, y_fix, y_1)"
      ]
     },
     "execution_count": 15,
     "metadata": {},
     "output_type": "execute_result"
    }
   ],
   "source": [
    "y_1.blocks[0], y_1.blocks[1], y_1.blocks[0, 0], y_1.blocks[1, 0]"
   ]
  },
  {
   "cell_type": "code",
   "execution_count": 16,
   "metadata": {},
   "outputs": [
    {
     "data": {
      "text/plain": [
       "(y_fix.T, y_1.T)"
      ]
     },
     "execution_count": 16,
     "metadata": {},
     "output_type": "execute_result"
    }
   ],
   "source": [
    "y_1.T.blocks[0], y_1.T.blocks[1]"
   ]
  },
  {
   "cell_type": "code",
   "execution_count": 17,
   "metadata": {},
   "outputs": [
    {
     "data": {
      "text/latex": [
       "$\\displaystyle \\left[\\begin{matrix}k_{1}^{T} & k_{3}^{T}\\\\k_{2}^{T} & k_{4}^{T}\\end{matrix}\\right]$"
      ],
      "text/plain": [
       "Matrix([\n",
       "[k1.T, k3.T],\n",
       "[k2.T, k4.T]])"
      ]
     },
     "execution_count": 17,
     "metadata": {},
     "output_type": "execute_result"
    }
   ],
   "source": [
    "K.T"
   ]
  },
  {
   "cell_type": "code",
   "execution_count": 18,
   "metadata": {},
   "outputs": [
    {
     "data": {
      "text/latex": [
       "$\\displaystyle \\left[\\begin{matrix}k_{1} y_{fix} + k_{2} y_{1}\\\\k_{3} y_{fix} + k_{4} y_{1}\\end{matrix}\\right]$"
      ],
      "text/plain": [
       "Matrix([\n",
       "[k1*y_fix + k2*y_1],\n",
       "[k3*y_fix + k4*y_1]])"
      ]
     },
     "execution_count": 18,
     "metadata": {},
     "output_type": "execute_result"
    }
   ],
   "source": [
    "sp_utils.block_matrix_vector_product(K, y_1)"
   ]
  },
  {
   "cell_type": "code",
   "execution_count": 19,
   "metadata": {},
   "outputs": [
    {
     "data": {
      "text/latex": [
       "$\\displaystyle \\left[\\begin{matrix}y_{1}^{T} k_{2}^{T} + y_{fix}^{T} k_{1}^{T} & y_{1}^{T} k_{4} + y_{fix}^{T} k_{3}^{T}\\end{matrix}\\right]$"
      ],
      "text/plain": [
       "Matrix([[y_1.T*k2.T + y_fix.T*k1.T, y_1.T*k4 + y_fix.T*k3.T]])"
      ]
     },
     "execution_count": 19,
     "metadata": {},
     "output_type": "execute_result"
    }
   ],
   "source": [
    "sp_utils.transposed_vector_matrix_product(\n",
    "    sp_utils.transpose_vector(y_1),\n",
    "    sp_utils.transpose_matrix(K)\n",
    ")"
   ]
  },
  {
   "cell_type": "code",
   "execution_count": null,
   "metadata": {},
   "outputs": [],
   "source": []
  },
  {
   "cell_type": "markdown",
   "metadata": {},
   "source": [
    "## Setup the main symbols"
   ]
  },
  {
   "cell_type": "code",
   "execution_count": 20,
   "metadata": {},
   "outputs": [],
   "source": [
    "sigma_2 = sp.Symbol('sigma_2')\n",
    "K = sp_utils.create_block_matrix()\n",
    "\n",
    "# corruption 1 matrices\n",
    "J_1 = sp_utils.create_block_diagonal_matrix('J', 'j_1')\n",
    "m_1 = sp_utils.create_block_vector('m_1', V_fix_symbol='m_fix')\n",
    "y_1 = sp_utils.create_block_vector('y_1', V_fix_symbol='y_fix')\n",
    "\n",
    "# corruption 2 matrices\n",
    "J_2 = sp_utils.create_block_diagonal_matrix('J', 'j_2')\n",
    "m_2 = sp_utils.create_block_vector('m_2', V_fix_symbol='m_fix')\n",
    "y_2 = sp_utils.create_block_vector('y_2', V_fix_symbol='y_fix')\n",
    "\n",
    "# uncorrupted matrices\n",
    "J_0 = sp_utils.create_block_diagonal_matrix('J', 'j_0')\n",
    "m_0 = sp_utils.create_block_vector('m_0', V_fix_symbol='m_fix')\n",
    "y_0 = sp_utils.create_block_vector('y_0', V_fix_symbol='y_fix')"
   ]
  },
  {
   "cell_type": "code",
   "execution_count": 21,
   "metadata": {},
   "outputs": [
    {
     "data": {
      "text/latex": [
       "$\\displaystyle \\left[\\begin{matrix}\\left(- \\frac{1}{- k3k1invk2 + \\sigma_{2} {j_{1}}_{0,0} + {k_{4}}_{0,0}} k_{1} \\left(\\sigma_{2} J + k_{1}\\right)^{-1} k_{2} + k_{2} \\left[\\begin{matrix}\\frac{1}{- k3k1invk2 + \\sigma_{2} {j_{1}}_{0,0} + {k_{4}}_{0,0}}\\end{matrix}\\right]\\right) \\left(- m_{1} + y_{1}\\right) + \\left(- \\frac{1}{- k3k1invk2 + \\sigma_{2} {j_{1}}_{0,0} + {k_{4}}_{0,0}} k_{2} k_{3} \\left(\\sigma_{2} J + k_{1}\\right)^{-1} + k_{1} \\left(\\left(\\sigma_{2} J + k_{1}\\right)^{-1} + \\frac{1}{- k3k1invk2 + \\sigma_{2} {j_{1}}_{0,0} + {k_{4}}_{0,0}} \\left(\\sigma_{2} J + k_{1}\\right)^{-1} k_{2} k_{3} \\left(\\sigma_{2} J + k_{1}\\right)^{-1}\\right)\\right) \\left(- m_{fix} + y_{fix}\\right)\\\\\\left(- \\frac{1}{- k3k1invk2 + \\sigma_{2} {j_{1}}_{0,0} + {k_{4}}_{0,0}} k_{3} \\left(\\sigma_{2} J + k_{1}\\right)^{-1} k_{2} + k_{4} \\left[\\begin{matrix}\\frac{1}{- k3k1invk2 + \\sigma_{2} {j_{1}}_{0,0} + {k_{4}}_{0,0}}\\end{matrix}\\right]\\right) \\left(- m_{1} + y_{1}\\right) + \\left(- \\frac{1}{- k3k1invk2 + \\sigma_{2} {j_{1}}_{0,0} + {k_{4}}_{0,0}} k_{4} k_{3} \\left(\\sigma_{2} J + k_{1}\\right)^{-1} + k_{3} \\left(\\left(\\sigma_{2} J + k_{1}\\right)^{-1} + \\frac{1}{- k3k1invk2 + \\sigma_{2} {j_{1}}_{0,0} + {k_{4}}_{0,0}} \\left(\\sigma_{2} J + k_{1}\\right)^{-1} k_{2} k_{3} \\left(\\sigma_{2} J + k_{1}\\right)^{-1}\\right)\\right) \\left(- m_{fix} + y_{fix}\\right)\\end{matrix}\\right]$"
      ],
      "text/plain": [
       "Matrix([\n",
       "[((-1/(-k3k1invk2 + sigma_2*j_1[0, 0] + k4[0, 0]))*k1*(sigma_2*J + k1)**(-1)*k2 + k2*Matrix([[1/(-k3k1invk2 + sigma_2*j_1[0, 0] + k4[0, 0])]]))*(-m_1 + y_1) + ((-1/(-k3k1invk2 + sigma_2*j_1[0, 0] + k4[0, 0]))*k2*k3*(sigma_2*J + k1)**(-1) + k1*((sigma_2*J + k1)**(-1) + 1/(-k3k1invk2 + sigma_2*j_1[0, 0] + k4[0, 0])*(sigma_2*J + k1)**(-1)*k2*k3*(sigma_2*J + k1)**(-1)))*(-m_fix + y_fix)],\n",
       "[((-1/(-k3k1invk2 + sigma_2*j_1[0, 0] + k4[0, 0]))*k3*(sigma_2*J + k1)**(-1)*k2 + k4*Matrix([[1/(-k3k1invk2 + sigma_2*j_1[0, 0] + k4[0, 0])]]))*(-m_1 + y_1) + ((-1/(-k3k1invk2 + sigma_2*j_1[0, 0] + k4[0, 0]))*k4*k3*(sigma_2*J + k1)**(-1) + k3*((sigma_2*J + k1)**(-1) + 1/(-k3k1invk2 + sigma_2*j_1[0, 0] + k4[0, 0])*(sigma_2*J + k1)**(-1)*k2*k3*(sigma_2*J + k1)**(-1)))*(-m_fix + y_fix)]])"
      ]
     },
     "execution_count": 21,
     "metadata": {},
     "output_type": "execute_result"
    }
   ],
   "source": [
    "# Getting mu_1 of the posterior distribution\n",
    "def get_mu(K, J_1, m_1, y_1, sigma_2):\n",
    "    K_tilde = sp_utils.block_matrix_matrix_addition(K, sp_utils.scalar_block_matrix_product(sigma_2, J_1))\n",
    "    inv_K_tilde = sp_utils.inverse_block_matrix(K_tilde)\n",
    "    adjusted_y = sp_utils.block_vector_vector_subtraction(y_1, m_1)\n",
    "    mu = sp_utils.block_matrix_vector_product(\n",
    "        sp_utils.block_matrix_matrix_product(K, inv_K_tilde),\n",
    "        adjusted_y)\n",
    "    return mu\n",
    "\n",
    "mu_1 = get_mu(K, J_1, m_1, y_1, sigma_2)\n",
    "mu_1"
   ]
  },
  {
   "cell_type": "code",
   "execution_count": 22,
   "metadata": {},
   "outputs": [
    {
     "data": {
      "text/latex": [
       "$\\displaystyle \\left[\\begin{matrix}\\sigma_{2} k_{1} \\left(\\left(\\sigma_{2} J + k_{1}\\right)^{-1} + \\frac{1}{- k3k1invk2 + \\sigma_{2} {j_{1}}_{0,0} + {k_{4}}_{0,0}} \\left(\\sigma_{2} J + k_{1}\\right)^{-1} k_{2} k_{3} \\left(\\sigma_{2} J + k_{1}\\right)^{-1}\\right) J + - \\frac{\\sigma_{2}}{- k3k1invk2 + \\sigma_{2} {j_{1}}_{0,0} + {k_{4}}_{0,0}} k_{2} k_{3} \\left(\\sigma_{2} J + k_{1}\\right)^{-1} J & \\sigma_{2} k_{2} \\left[\\begin{matrix}\\frac{1}{- k3k1invk2 + \\sigma_{2} {j_{1}}_{0,0} + {k_{4}}_{0,0}}\\end{matrix}\\right] j_{1} + - \\frac{\\sigma_{2}}{- k3k1invk2 + \\sigma_{2} {j_{1}}_{0,0} + {k_{4}}_{0,0}} k_{1} \\left(\\sigma_{2} J + k_{1}\\right)^{-1} k_{2} j_{1}\\\\\\sigma_{2} k_{3} \\left(\\left(\\sigma_{2} J + k_{1}\\right)^{-1} + \\frac{1}{- k3k1invk2 + \\sigma_{2} {j_{1}}_{0,0} + {k_{4}}_{0,0}} \\left(\\sigma_{2} J + k_{1}\\right)^{-1} k_{2} k_{3} \\left(\\sigma_{2} J + k_{1}\\right)^{-1}\\right) J + - \\frac{\\sigma_{2}}{- k3k1invk2 + \\sigma_{2} {j_{1}}_{0,0} + {k_{4}}_{0,0}} k_{4} k_{3} \\left(\\sigma_{2} J + k_{1}\\right)^{-1} J & \\sigma_{2} k_{4} \\left[\\begin{matrix}\\frac{1}{- k3k1invk2 + \\sigma_{2} {j_{1}}_{0,0} + {k_{4}}_{0,0}}\\end{matrix}\\right] j_{1} + - \\frac{\\sigma_{2}}{- k3k1invk2 + \\sigma_{2} {j_{1}}_{0,0} + {k_{4}}_{0,0}} k_{3} \\left(\\sigma_{2} J + k_{1}\\right)^{-1} k_{2} j_{1}\\end{matrix}\\right]$"
      ],
      "text/plain": [
       "Matrix([\n",
       "[sigma_2*k1*((sigma_2*J + k1)**(-1) + 1/(-k3k1invk2 + sigma_2*j_1[0, 0] + k4[0, 0])*(sigma_2*J + k1)**(-1)*k2*k3*(sigma_2*J + k1)**(-1))*J + (-sigma_2/(-k3k1invk2 + sigma_2*j_1[0, 0] + k4[0, 0]))*k2*k3*(sigma_2*J + k1)**(-1)*J, sigma_2*k2*Matrix([[1/(-k3k1invk2 + sigma_2*j_1[0, 0] + k4[0, 0])]])*j_1 + (-sigma_2/(-k3k1invk2 + sigma_2*j_1[0, 0] + k4[0, 0]))*k1*(sigma_2*J + k1)**(-1)*k2*j_1],\n",
       "[sigma_2*k3*((sigma_2*J + k1)**(-1) + 1/(-k3k1invk2 + sigma_2*j_1[0, 0] + k4[0, 0])*(sigma_2*J + k1)**(-1)*k2*k3*(sigma_2*J + k1)**(-1))*J + (-sigma_2/(-k3k1invk2 + sigma_2*j_1[0, 0] + k4[0, 0]))*k4*k3*(sigma_2*J + k1)**(-1)*J, sigma_2*k4*Matrix([[1/(-k3k1invk2 + sigma_2*j_1[0, 0] + k4[0, 0])]])*j_1 + (-sigma_2/(-k3k1invk2 + sigma_2*j_1[0, 0] + k4[0, 0]))*k3*(sigma_2*J + k1)**(-1)*k2*j_1]])"
      ]
     },
     "execution_count": 22,
     "metadata": {},
     "output_type": "execute_result"
    }
   ],
   "source": [
    "def get_Cov(K, J, sigma_2):\n",
    "    term_1 = sp_utils.block_matrix_matrix_addition(K, sp_utils.scalar_block_matrix_product(sigma_2, J))\n",
    "    inv_term_1 = sp_utils.inverse_block_matrix(term_1)\n",
    "    Cov = sp_utils.block_matrix_matrix_product(\n",
    "        K,\n",
    "        sp_utils.block_matrix_matrix_product(\n",
    "            inv_term_1,\n",
    "            sp_utils.scalar_block_matrix_product(sigma_2, J)\n",
    "        )\n",
    "    )\n",
    "    return Cov\n",
    "Cov_1 = get_Cov(K, J_1, sigma_2)\n",
    "Cov_1"
   ]
  },
  {
   "cell_type": "code",
   "execution_count": 23,
   "metadata": {},
   "outputs": [
    {
     "data": {
      "text/latex": [
       "$\\displaystyle \\left[\\begin{matrix}\\frac{1}{\\sigma_{2}} J^{-1} \\left(\\left(\\sigma_{2} J + k_{1}\\right) \\left(k_{1}^{-1} + \\frac{1}{- k3k1invk2 + k_{4}} k_{1}^{-1} k_{2} k_{3} k_{1}^{-1}\\right) + \\frac{1}{k3k1invk2 - k_{4}} k_{2} k_{3} k_{1}^{-1}\\right) & \\frac{1}{\\sigma_{2}} J^{-1} \\left(k_{2} \\left[\\begin{matrix}\\frac{1}{- k3k1invk2 + k_{4}}\\end{matrix}\\right] + \\frac{1}{k3k1invk2 - k_{4}} \\left(\\sigma_{2} J + k_{1}\\right) k_{1}^{-1} k_{2}\\right)\\\\\\frac{1}{\\sigma_{2}} \\left[\\begin{matrix}\\frac{1}{j_{1}}\\end{matrix}\\right] \\left(k_{3} \\left(k_{1}^{-1} + \\frac{1}{- k3k1invk2 + k_{4}} k_{1}^{-1} k_{2} k_{3} k_{1}^{-1}\\right) + \\frac{1}{k3k1invk2 - k_{4}} \\left(\\sigma_{2} j_{1} + k_{4}\\right) k_{3} k_{1}^{-1}\\right) & \\frac{1}{\\sigma_{2}} \\left[\\begin{matrix}\\frac{1}{j_{1}}\\end{matrix}\\right] \\left(\\left(\\sigma_{2} j_{1} + k_{4}\\right) \\left[\\begin{matrix}\\frac{1}{- k3k1invk2 + k_{4}}\\end{matrix}\\right] + \\frac{1}{k3k1invk2 - k_{4}} k_{3} k_{1}^{-1} k_{2}\\right)\\end{matrix}\\right]$"
      ],
      "text/plain": [
       "Matrix([\n",
       "[            1/sigma_2*J**(-1)*((sigma_2*J + k1)*(k1**(-1) + 1/(-k3k1invk2 + k4)*k1**(-1)*k2*k3*k1**(-1)) + 1/(k3k1invk2 - k4)*k2*k3*k1**(-1)),             1/sigma_2*J**(-1)*(k2*Matrix([[1/(-k3k1invk2 + k4)]]) + 1/(k3k1invk2 - k4)*(sigma_2*J + k1)*k1**(-1)*k2)],\n",
       "[1/sigma_2*Matrix([[1/j_1]])*(k3*(k1**(-1) + 1/(-k3k1invk2 + k4)*k1**(-1)*k2*k3*k1**(-1)) + 1/(k3k1invk2 - k4)*(sigma_2*j_1 + k4)*k3*k1**(-1)), 1/sigma_2*Matrix([[1/j_1]])*((sigma_2*j_1 + k4)*Matrix([[1/(-k3k1invk2 + k4)]]) + 1/(k3k1invk2 - k4)*k3*k1**(-1)*k2)]])"
      ]
     },
     "execution_count": 23,
     "metadata": {},
     "output_type": "execute_result"
    }
   ],
   "source": [
    "def get_inv_Cov(K, J, sigma_2):\n",
    "    inv_Cov = sp_utils.scalar_block_matrix_product(\n",
    "        sigma_2**(-1),\n",
    "        sp_utils.block_matrix_matrix_product(\n",
    "            sp_utils.inverse_block_matrix(J_1),\n",
    "            sp_utils.block_matrix_matrix_product(\n",
    "                sp_utils.block_matrix_matrix_addition(\n",
    "                    K,\n",
    "                    sp_utils.scalar_block_matrix_product(sigma_2, J_1)\n",
    "                ),\n",
    "                sp_utils.inverse_block_matrix(K)\n",
    "            )\n",
    "        )\n",
    "    )\n",
    "    return inv_Cov\n",
    "inv_Cov_1 = get_inv_Cov(K, J_1, sigma_2)\n",
    "inv_Cov_1"
   ]
  },
  {
   "cell_type": "markdown",
   "metadata": {},
   "source": [
    "## Computing the (2) term"
   ]
  },
  {
   "cell_type": "code",
   "execution_count": 24,
   "metadata": {},
   "outputs": [
    {
     "data": {
      "text/latex": [
       "$\\displaystyle \\left(- \\left(- \\frac{1}{- k3k1invk2 + \\sigma_{2} {j_{0}}_{0,0} + {k_{4}}_{0,0}} k_{1} \\left(\\sigma_{2} J + k_{1}\\right)^{-1} k_{2} + k_{2} \\left[\\begin{matrix}\\frac{1}{- k3k1invk2 + \\sigma_{2} {j_{0}}_{0,0} + {k_{4}}_{0,0}}\\end{matrix}\\right]\\right) \\left(- m_{0} + y_{0}\\right) - \\left(- \\frac{1}{- k3k1invk2 + \\sigma_{2} {j_{0}}_{0,0} + {k_{4}}_{0,0}} k_{2} k_{3} \\left(\\sigma_{2} J + k_{1}\\right)^{-1} + k_{1} \\left(\\left(\\sigma_{2} J + k_{1}\\right)^{-1} + \\frac{1}{- k3k1invk2 + \\sigma_{2} {j_{0}}_{0,0} + {k_{4}}_{0,0}} \\left(\\sigma_{2} J + k_{1}\\right)^{-1} k_{2} k_{3} \\left(\\sigma_{2} J + k_{1}\\right)^{-1}\\right)\\right) \\left(- m_{fix} + y_{fix}\\right) + \\left(- \\frac{1}{- k3k1invk2 + \\sigma_{2} {j_{1}}_{0,0} + {k_{4}}_{0,0}} k_{1} \\left(\\sigma_{2} J + k_{1}\\right)^{-1} k_{2} + k_{2} \\left[\\begin{matrix}\\frac{1}{- k3k1invk2 + \\sigma_{2} {j_{1}}_{0,0} + {k_{4}}_{0,0}}\\end{matrix}\\right]\\right) \\left(- m_{1} + y_{1}\\right) + \\left(- \\frac{1}{- k3k1invk2 + \\sigma_{2} {j_{1}}_{0,0} + {k_{4}}_{0,0}} k_{2} k_{3} \\left(\\sigma_{2} J + k_{1}\\right)^{-1} + k_{1} \\left(\\left(\\sigma_{2} J + k_{1}\\right)^{-1} + \\frac{1}{- k3k1invk2 + \\sigma_{2} {j_{1}}_{0,0} + {k_{4}}_{0,0}} \\left(\\sigma_{2} J + k_{1}\\right)^{-1} k_{2} k_{3} \\left(\\sigma_{2} J + k_{1}\\right)^{-1}\\right)\\right) \\left(- m_{fix} + y_{fix}\\right)\\right) \\left(\\frac{1}{\\sigma_{2}} J^{-1} \\left(\\left(\\sigma_{2} J + k_{1}\\right) \\left(k_{1}^{-1} + \\frac{1}{- k3k1invk2 + k_{4}} k_{1}^{-1} k_{2} k_{3} k_{1}^{-1}\\right) + \\frac{1}{k3k1invk2 - k_{4}} k_{2} k_{3} k_{1}^{-1}\\right) \\left(- \\left(- \\frac{1}{- k3k1invk2 + \\sigma_{2} {j_{0}}_{0,0} + {k_{4}}_{0,0}} k_{1} \\left(\\sigma_{2} J + k_{1}\\right)^{-1} k_{2} + k_{2} \\left[\\begin{matrix}\\frac{1}{- k3k1invk2 + \\sigma_{2} {j_{0}}_{0,0} + {k_{4}}_{0,0}}\\end{matrix}\\right]\\right) \\left(- m_{0} + y_{0}\\right) - \\left(- \\frac{1}{- k3k1invk2 + \\sigma_{2} {j_{0}}_{0,0} + {k_{4}}_{0,0}} k_{2} k_{3} \\left(\\sigma_{2} J + k_{1}\\right)^{-1} + k_{1} \\left(\\left(\\sigma_{2} J + k_{1}\\right)^{-1} + \\frac{1}{- k3k1invk2 + \\sigma_{2} {j_{0}}_{0,0} + {k_{4}}_{0,0}} \\left(\\sigma_{2} J + k_{1}\\right)^{-1} k_{2} k_{3} \\left(\\sigma_{2} J + k_{1}\\right)^{-1}\\right)\\right) \\left(- m_{fix} + y_{fix}\\right) + \\left(- \\frac{1}{- k3k1invk2 + \\sigma_{2} {j_{1}}_{0,0} + {k_{4}}_{0,0}} k_{1} \\left(\\sigma_{2} J + k_{1}\\right)^{-1} k_{2} + k_{2} \\left[\\begin{matrix}\\frac{1}{- k3k1invk2 + \\sigma_{2} {j_{1}}_{0,0} + {k_{4}}_{0,0}}\\end{matrix}\\right]\\right) \\left(- m_{1} + y_{1}\\right) + \\left(- \\frac{1}{- k3k1invk2 + \\sigma_{2} {j_{1}}_{0,0} + {k_{4}}_{0,0}} k_{2} k_{3} \\left(\\sigma_{2} J + k_{1}\\right)^{-1} + k_{1} \\left(\\left(\\sigma_{2} J + k_{1}\\right)^{-1} + \\frac{1}{- k3k1invk2 + \\sigma_{2} {j_{1}}_{0,0} + {k_{4}}_{0,0}} \\left(\\sigma_{2} J + k_{1}\\right)^{-1} k_{2} k_{3} \\left(\\sigma_{2} J + k_{1}\\right)^{-1}\\right)\\right) \\left(- m_{fix} + y_{fix}\\right)\\right) + \\frac{1}{\\sigma_{2}} J^{-1} \\left(k_{2} \\left[\\begin{matrix}\\frac{1}{- k3k1invk2 + k_{4}}\\end{matrix}\\right] + \\frac{1}{k3k1invk2 - k_{4}} \\left(\\sigma_{2} J + k_{1}\\right) k_{1}^{-1} k_{2}\\right) \\left(- \\left(- \\frac{1}{- k3k1invk2 + \\sigma_{2} {j_{0}}_{0,0} + {k_{4}}_{0,0}} k_{3} \\left(\\sigma_{2} J + k_{1}\\right)^{-1} k_{2} + k_{4} \\left[\\begin{matrix}\\frac{1}{- k3k1invk2 + \\sigma_{2} {j_{0}}_{0,0} + {k_{4}}_{0,0}}\\end{matrix}\\right]\\right) \\left(- m_{0} + y_{0}\\right) - \\left(- \\frac{1}{- k3k1invk2 + \\sigma_{2} {j_{0}}_{0,0} + {k_{4}}_{0,0}} k_{4} k_{3} \\left(\\sigma_{2} J + k_{1}\\right)^{-1} + k_{3} \\left(\\left(\\sigma_{2} J + k_{1}\\right)^{-1} + \\frac{1}{- k3k1invk2 + \\sigma_{2} {j_{0}}_{0,0} + {k_{4}}_{0,0}} \\left(\\sigma_{2} J + k_{1}\\right)^{-1} k_{2} k_{3} \\left(\\sigma_{2} J + k_{1}\\right)^{-1}\\right)\\right) \\left(- m_{fix} + y_{fix}\\right) + \\left(- \\frac{1}{- k3k1invk2 + \\sigma_{2} {j_{1}}_{0,0} + {k_{4}}_{0,0}} k_{3} \\left(\\sigma_{2} J + k_{1}\\right)^{-1} k_{2} + k_{4} \\left[\\begin{matrix}\\frac{1}{- k3k1invk2 + \\sigma_{2} {j_{1}}_{0,0} + {k_{4}}_{0,0}}\\end{matrix}\\right]\\right) \\left(- m_{1} + y_{1}\\right) + \\left(- \\frac{1}{- k3k1invk2 + \\sigma_{2} {j_{1}}_{0,0} + {k_{4}}_{0,0}} k_{4} k_{3} \\left(\\sigma_{2} J + k_{1}\\right)^{-1} + k_{3} \\left(\\left(\\sigma_{2} J + k_{1}\\right)^{-1} + \\frac{1}{- k3k1invk2 + \\sigma_{2} {j_{1}}_{0,0} + {k_{4}}_{0,0}} \\left(\\sigma_{2} J + k_{1}\\right)^{-1} k_{2} k_{3} \\left(\\sigma_{2} J + k_{1}\\right)^{-1}\\right)\\right) \\left(- m_{fix} + y_{fix}\\right)\\right)\\right) + \\left(- \\left(- \\frac{1}{- k3k1invk2 + \\sigma_{2} {j_{0}}_{0,0} + {k_{4}}_{0,0}} k_{3} \\left(\\sigma_{2} J + k_{1}\\right)^{-1} k_{2} + k_{4} \\left[\\begin{matrix}\\frac{1}{- k3k1invk2 + \\sigma_{2} {j_{0}}_{0,0} + {k_{4}}_{0,0}}\\end{matrix}\\right]\\right) \\left(- m_{0} + y_{0}\\right) - \\left(- \\frac{1}{- k3k1invk2 + \\sigma_{2} {j_{0}}_{0,0} + {k_{4}}_{0,0}} k_{4} k_{3} \\left(\\sigma_{2} J + k_{1}\\right)^{-1} + k_{3} \\left(\\left(\\sigma_{2} J + k_{1}\\right)^{-1} + \\frac{1}{- k3k1invk2 + \\sigma_{2} {j_{0}}_{0,0} + {k_{4}}_{0,0}} \\left(\\sigma_{2} J + k_{1}\\right)^{-1} k_{2} k_{3} \\left(\\sigma_{2} J + k_{1}\\right)^{-1}\\right)\\right) \\left(- m_{fix} + y_{fix}\\right) + \\left(- \\frac{1}{- k3k1invk2 + \\sigma_{2} {j_{1}}_{0,0} + {k_{4}}_{0,0}} k_{3} \\left(\\sigma_{2} J + k_{1}\\right)^{-1} k_{2} + k_{4} \\left[\\begin{matrix}\\frac{1}{- k3k1invk2 + \\sigma_{2} {j_{1}}_{0,0} + {k_{4}}_{0,0}}\\end{matrix}\\right]\\right) \\left(- m_{1} + y_{1}\\right) + \\left(- \\frac{1}{- k3k1invk2 + \\sigma_{2} {j_{1}}_{0,0} + {k_{4}}_{0,0}} k_{4} k_{3} \\left(\\sigma_{2} J + k_{1}\\right)^{-1} + k_{3} \\left(\\left(\\sigma_{2} J + k_{1}\\right)^{-1} + \\frac{1}{- k3k1invk2 + \\sigma_{2} {j_{1}}_{0,0} + {k_{4}}_{0,0}} \\left(\\sigma_{2} J + k_{1}\\right)^{-1} k_{2} k_{3} \\left(\\sigma_{2} J + k_{1}\\right)^{-1}\\right)\\right) \\left(- m_{fix} + y_{fix}\\right)\\right) \\left(\\frac{1}{\\sigma_{2}} \\left[\\begin{matrix}\\frac{1}{j_{1}}\\end{matrix}\\right] \\left(\\left(\\sigma_{2} j_{1} + k_{4}\\right) \\left[\\begin{matrix}\\frac{1}{- k3k1invk2 + k_{4}}\\end{matrix}\\right] + \\frac{1}{k3k1invk2 - k_{4}} k_{3} k_{1}^{-1} k_{2}\\right) \\left(- \\left(- \\frac{1}{- k3k1invk2 + \\sigma_{2} {j_{0}}_{0,0} + {k_{4}}_{0,0}} k_{3} \\left(\\sigma_{2} J + k_{1}\\right)^{-1} k_{2} + k_{4} \\left[\\begin{matrix}\\frac{1}{- k3k1invk2 + \\sigma_{2} {j_{0}}_{0,0} + {k_{4}}_{0,0}}\\end{matrix}\\right]\\right) \\left(- m_{0} + y_{0}\\right) - \\left(- \\frac{1}{- k3k1invk2 + \\sigma_{2} {j_{0}}_{0,0} + {k_{4}}_{0,0}} k_{4} k_{3} \\left(\\sigma_{2} J + k_{1}\\right)^{-1} + k_{3} \\left(\\left(\\sigma_{2} J + k_{1}\\right)^{-1} + \\frac{1}{- k3k1invk2 + \\sigma_{2} {j_{0}}_{0,0} + {k_{4}}_{0,0}} \\left(\\sigma_{2} J + k_{1}\\right)^{-1} k_{2} k_{3} \\left(\\sigma_{2} J + k_{1}\\right)^{-1}\\right)\\right) \\left(- m_{fix} + y_{fix}\\right) + \\left(- \\frac{1}{- k3k1invk2 + \\sigma_{2} {j_{1}}_{0,0} + {k_{4}}_{0,0}} k_{3} \\left(\\sigma_{2} J + k_{1}\\right)^{-1} k_{2} + k_{4} \\left[\\begin{matrix}\\frac{1}{- k3k1invk2 + \\sigma_{2} {j_{1}}_{0,0} + {k_{4}}_{0,0}}\\end{matrix}\\right]\\right) \\left(- m_{1} + y_{1}\\right) + \\left(- \\frac{1}{- k3k1invk2 + \\sigma_{2} {j_{1}}_{0,0} + {k_{4}}_{0,0}} k_{4} k_{3} \\left(\\sigma_{2} J + k_{1}\\right)^{-1} + k_{3} \\left(\\left(\\sigma_{2} J + k_{1}\\right)^{-1} + \\frac{1}{- k3k1invk2 + \\sigma_{2} {j_{1}}_{0,0} + {k_{4}}_{0,0}} \\left(\\sigma_{2} J + k_{1}\\right)^{-1} k_{2} k_{3} \\left(\\sigma_{2} J + k_{1}\\right)^{-1}\\right)\\right) \\left(- m_{fix} + y_{fix}\\right)\\right) + \\frac{1}{\\sigma_{2}} \\left[\\begin{matrix}\\frac{1}{j_{1}}\\end{matrix}\\right] \\left(k_{3} \\left(k_{1}^{-1} + \\frac{1}{- k3k1invk2 + k_{4}} k_{1}^{-1} k_{2} k_{3} k_{1}^{-1}\\right) + \\frac{1}{k3k1invk2 - k_{4}} \\left(\\sigma_{2} j_{1} + k_{4}\\right) k_{3} k_{1}^{-1}\\right) \\left(- \\left(- \\frac{1}{- k3k1invk2 + \\sigma_{2} {j_{0}}_{0,0} + {k_{4}}_{0,0}} k_{1} \\left(\\sigma_{2} J + k_{1}\\right)^{-1} k_{2} + k_{2} \\left[\\begin{matrix}\\frac{1}{- k3k1invk2 + \\sigma_{2} {j_{0}}_{0,0} + {k_{4}}_{0,0}}\\end{matrix}\\right]\\right) \\left(- m_{0} + y_{0}\\right) - \\left(- \\frac{1}{- k3k1invk2 + \\sigma_{2} {j_{0}}_{0,0} + {k_{4}}_{0,0}} k_{2} k_{3} \\left(\\sigma_{2} J + k_{1}\\right)^{-1} + k_{1} \\left(\\left(\\sigma_{2} J + k_{1}\\right)^{-1} + \\frac{1}{- k3k1invk2 + \\sigma_{2} {j_{0}}_{0,0} + {k_{4}}_{0,0}} \\left(\\sigma_{2} J + k_{1}\\right)^{-1} k_{2} k_{3} \\left(\\sigma_{2} J + k_{1}\\right)^{-1}\\right)\\right) \\left(- m_{fix} + y_{fix}\\right) + \\left(- \\frac{1}{- k3k1invk2 + \\sigma_{2} {j_{1}}_{0,0} + {k_{4}}_{0,0}} k_{1} \\left(\\sigma_{2} J + k_{1}\\right)^{-1} k_{2} + k_{2} \\left[\\begin{matrix}\\frac{1}{- k3k1invk2 + \\sigma_{2} {j_{1}}_{0,0} + {k_{4}}_{0,0}}\\end{matrix}\\right]\\right) \\left(- m_{1} + y_{1}\\right) + \\left(- \\frac{1}{- k3k1invk2 + \\sigma_{2} {j_{1}}_{0,0} + {k_{4}}_{0,0}} k_{2} k_{3} \\left(\\sigma_{2} J + k_{1}\\right)^{-1} + k_{1} \\left(\\left(\\sigma_{2} J + k_{1}\\right)^{-1} + \\frac{1}{- k3k1invk2 + \\sigma_{2} {j_{1}}_{0,0} + {k_{4}}_{0,0}} \\left(\\sigma_{2} J + k_{1}\\right)^{-1} k_{2} k_{3} \\left(\\sigma_{2} J + k_{1}\\right)^{-1}\\right)\\right) \\left(- m_{fix} + y_{fix}\\right)\\right)\\right)$"
      ],
      "text/plain": [
       "(-((-1/(-k3k1invk2 + sigma_2*j_0[0, 0] + k4[0, 0]))*k1*(sigma_2*J + k1)**(-1)*k2 + k2*Matrix([[1/(-k3k1invk2 + sigma_2*j_0[0, 0] + k4[0, 0])]]))*(-m_0 + y_0) - ((-1/(-k3k1invk2 + sigma_2*j_0[0, 0] + k4[0, 0]))*k2*k3*(sigma_2*J + k1)**(-1) + k1*((sigma_2*J + k1)**(-1) + 1/(-k3k1invk2 + sigma_2*j_0[0, 0] + k4[0, 0])*(sigma_2*J + k1)**(-1)*k2*k3*(sigma_2*J + k1)**(-1)))*(-m_fix + y_fix) + ((-1/(-k3k1invk2 + sigma_2*j_1[0, 0] + k4[0, 0]))*k1*(sigma_2*J + k1)**(-1)*k2 + k2*Matrix([[1/(-k3k1invk2 + sigma_2*j_1[0, 0] + k4[0, 0])]]))*(-m_1 + y_1) + ((-1/(-k3k1invk2 + sigma_2*j_1[0, 0] + k4[0, 0]))*k2*k3*(sigma_2*J + k1)**(-1) + k1*((sigma_2*J + k1)**(-1) + 1/(-k3k1invk2 + sigma_2*j_1[0, 0] + k4[0, 0])*(sigma_2*J + k1)**(-1)*k2*k3*(sigma_2*J + k1)**(-1)))*(-m_fix + y_fix))*(1/sigma_2*J**(-1)*((sigma_2*J + k1)*(k1**(-1) + 1/(-k3k1invk2 + k4)*k1**(-1)*k2*k3*k1**(-1)) + 1/(k3k1invk2 - k4)*k2*k3*k1**(-1))*(-((-1/(-k3k1invk2 + sigma_2*j_0[0, 0] + k4[0, 0]))*k1*(sigma_2*J + k1)**(-1)*k2 + k2*Matrix([[1/(-k3k1invk2 + sigma_2*j_0[0, 0] + k4[0, 0])]]))*(-m_0 + y_0) - ((-1/(-k3k1invk2 + sigma_2*j_0[0, 0] + k4[0, 0]))*k2*k3*(sigma_2*J + k1)**(-1) + k1*((sigma_2*J + k1)**(-1) + 1/(-k3k1invk2 + sigma_2*j_0[0, 0] + k4[0, 0])*(sigma_2*J + k1)**(-1)*k2*k3*(sigma_2*J + k1)**(-1)))*(-m_fix + y_fix) + ((-1/(-k3k1invk2 + sigma_2*j_1[0, 0] + k4[0, 0]))*k1*(sigma_2*J + k1)**(-1)*k2 + k2*Matrix([[1/(-k3k1invk2 + sigma_2*j_1[0, 0] + k4[0, 0])]]))*(-m_1 + y_1) + ((-1/(-k3k1invk2 + sigma_2*j_1[0, 0] + k4[0, 0]))*k2*k3*(sigma_2*J + k1)**(-1) + k1*((sigma_2*J + k1)**(-1) + 1/(-k3k1invk2 + sigma_2*j_1[0, 0] + k4[0, 0])*(sigma_2*J + k1)**(-1)*k2*k3*(sigma_2*J + k1)**(-1)))*(-m_fix + y_fix)) + 1/sigma_2*J**(-1)*(k2*Matrix([[1/(-k3k1invk2 + k4)]]) + 1/(k3k1invk2 - k4)*(sigma_2*J + k1)*k1**(-1)*k2)*(-((-1/(-k3k1invk2 + sigma_2*j_0[0, 0] + k4[0, 0]))*k3*(sigma_2*J + k1)**(-1)*k2 + k4*Matrix([[1/(-k3k1invk2 + sigma_2*j_0[0, 0] + k4[0, 0])]]))*(-m_0 + y_0) - ((-1/(-k3k1invk2 + sigma_2*j_0[0, 0] + k4[0, 0]))*k4*k3*(sigma_2*J + k1)**(-1) + k3*((sigma_2*J + k1)**(-1) + 1/(-k3k1invk2 + sigma_2*j_0[0, 0] + k4[0, 0])*(sigma_2*J + k1)**(-1)*k2*k3*(sigma_2*J + k1)**(-1)))*(-m_fix + y_fix) + ((-1/(-k3k1invk2 + sigma_2*j_1[0, 0] + k4[0, 0]))*k3*(sigma_2*J + k1)**(-1)*k2 + k4*Matrix([[1/(-k3k1invk2 + sigma_2*j_1[0, 0] + k4[0, 0])]]))*(-m_1 + y_1) + ((-1/(-k3k1invk2 + sigma_2*j_1[0, 0] + k4[0, 0]))*k4*k3*(sigma_2*J + k1)**(-1) + k3*((sigma_2*J + k1)**(-1) + 1/(-k3k1invk2 + sigma_2*j_1[0, 0] + k4[0, 0])*(sigma_2*J + k1)**(-1)*k2*k3*(sigma_2*J + k1)**(-1)))*(-m_fix + y_fix))) + (-((-1/(-k3k1invk2 + sigma_2*j_0[0, 0] + k4[0, 0]))*k3*(sigma_2*J + k1)**(-1)*k2 + k4*Matrix([[1/(-k3k1invk2 + sigma_2*j_0[0, 0] + k4[0, 0])]]))*(-m_0 + y_0) - ((-1/(-k3k1invk2 + sigma_2*j_0[0, 0] + k4[0, 0]))*k4*k3*(sigma_2*J + k1)**(-1) + k3*((sigma_2*J + k1)**(-1) + 1/(-k3k1invk2 + sigma_2*j_0[0, 0] + k4[0, 0])*(sigma_2*J + k1)**(-1)*k2*k3*(sigma_2*J + k1)**(-1)))*(-m_fix + y_fix) + ((-1/(-k3k1invk2 + sigma_2*j_1[0, 0] + k4[0, 0]))*k3*(sigma_2*J + k1)**(-1)*k2 + k4*Matrix([[1/(-k3k1invk2 + sigma_2*j_1[0, 0] + k4[0, 0])]]))*(-m_1 + y_1) + ((-1/(-k3k1invk2 + sigma_2*j_1[0, 0] + k4[0, 0]))*k4*k3*(sigma_2*J + k1)**(-1) + k3*((sigma_2*J + k1)**(-1) + 1/(-k3k1invk2 + sigma_2*j_1[0, 0] + k4[0, 0])*(sigma_2*J + k1)**(-1)*k2*k3*(sigma_2*J + k1)**(-1)))*(-m_fix + y_fix))*(1/sigma_2*Matrix([[1/j_1]])*((sigma_2*j_1 + k4)*Matrix([[1/(-k3k1invk2 + k4)]]) + 1/(k3k1invk2 - k4)*k3*k1**(-1)*k2)*(-((-1/(-k3k1invk2 + sigma_2*j_0[0, 0] + k4[0, 0]))*k3*(sigma_2*J + k1)**(-1)*k2 + k4*Matrix([[1/(-k3k1invk2 + sigma_2*j_0[0, 0] + k4[0, 0])]]))*(-m_0 + y_0) - ((-1/(-k3k1invk2 + sigma_2*j_0[0, 0] + k4[0, 0]))*k4*k3*(sigma_2*J + k1)**(-1) + k3*((sigma_2*J + k1)**(-1) + 1/(-k3k1invk2 + sigma_2*j_0[0, 0] + k4[0, 0])*(sigma_2*J + k1)**(-1)*k2*k3*(sigma_2*J + k1)**(-1)))*(-m_fix + y_fix) + ((-1/(-k3k1invk2 + sigma_2*j_1[0, 0] + k4[0, 0]))*k3*(sigma_2*J + k1)**(-1)*k2 + k4*Matrix([[1/(-k3k1invk2 + sigma_2*j_1[0, 0] + k4[0, 0])]]))*(-m_1 + y_1) + ((-1/(-k3k1invk2 + sigma_2*j_1[0, 0] + k4[0, 0]))*k4*k3*(sigma_2*J + k1)**(-1) + k3*((sigma_2*J + k1)**(-1) + 1/(-k3k1invk2 + sigma_2*j_1[0, 0] + k4[0, 0])*(sigma_2*J + k1)**(-1)*k2*k3*(sigma_2*J + k1)**(-1)))*(-m_fix + y_fix)) + 1/sigma_2*Matrix([[1/j_1]])*(k3*(k1**(-1) + 1/(-k3k1invk2 + k4)*k1**(-1)*k2*k3*k1**(-1)) + 1/(k3k1invk2 - k4)*(sigma_2*j_1 + k4)*k3*k1**(-1))*(-((-1/(-k3k1invk2 + sigma_2*j_0[0, 0] + k4[0, 0]))*k1*(sigma_2*J + k1)**(-1)*k2 + k2*Matrix([[1/(-k3k1invk2 + sigma_2*j_0[0, 0] + k4[0, 0])]]))*(-m_0 + y_0) - ((-1/(-k3k1invk2 + sigma_2*j_0[0, 0] + k4[0, 0]))*k2*k3*(sigma_2*J + k1)**(-1) + k1*((sigma_2*J + k1)**(-1) + 1/(-k3k1invk2 + sigma_2*j_0[0, 0] + k4[0, 0])*(sigma_2*J + k1)**(-1)*k2*k3*(sigma_2*J + k1)**(-1)))*(-m_fix + y_fix) + ((-1/(-k3k1invk2 + sigma_2*j_1[0, 0] + k4[0, 0]))*k1*(sigma_2*J + k1)**(-1)*k2 + k2*Matrix([[1/(-k3k1invk2 + sigma_2*j_1[0, 0] + k4[0, 0])]]))*(-m_1 + y_1) + ((-1/(-k3k1invk2 + sigma_2*j_1[0, 0] + k4[0, 0]))*k2*k3*(sigma_2*J + k1)**(-1) + k1*((sigma_2*J + k1)**(-1) + 1/(-k3k1invk2 + sigma_2*j_1[0, 0] + k4[0, 0])*(sigma_2*J + k1)**(-1)*k2*k3*(sigma_2*J + k1)**(-1)))*(-m_fix + y_fix)))"
      ]
     },
     "execution_count": 24,
     "metadata": {},
     "output_type": "execute_result"
    }
   ],
   "source": [
    "# we are interested in (mu_1-mu)^T * inv_Cov * (mu_1-mu)\n",
    "mu_1 = get_mu(K, J_1, m_1, y_1, sigma_2)\n",
    "mu_0 = get_mu(K, J_0, m_0, y_0, sigma_2)\n",
    "mu_diff_1 = sp_utils.block_vector_vector_subtraction(mu_1, mu_0)\n",
    "mu_diff_transposed_1 = sp_utils.transpose_vector(mu_diff_1)\n",
    "\n",
    "inv_Cov_1 = get_inv_Cov(K, J_1, sigma_2)\n",
    "\n",
    "v_diff_1 = sp_utils.block_matrix_vector_product(\n",
    "    inv_Cov_1,\n",
    "    mu_diff_1\n",
    ")\n",
    "\n",
    "u1 = mu_diff_1.blocks[0]\n",
    "u2 = mu_diff_1.blocks[1]\n",
    "\n",
    "v1 = v_diff_1.blocks[0]\n",
    "v2 = v_diff_1.blocks[1]\n",
    "\n",
    "result_1 = u1 * v1 + u2 * v2\n",
    "result_1\n"
   ]
  },
  {
   "cell_type": "code",
   "execution_count": 25,
   "metadata": {},
   "outputs": [
    {
     "data": {
      "text/plain": [
       "(n, 1)"
      ]
     },
     "execution_count": 25,
     "metadata": {},
     "output_type": "execute_result"
    }
   ],
   "source": [
    "result_1.shape"
   ]
  },
  {
   "cell_type": "code",
   "execution_count": null,
   "metadata": {},
   "outputs": [],
   "source": []
  }
 ],
 "metadata": {
  "kernelspec": {
   "display_name": ".venv",
   "language": "python",
   "name": "python3"
  },
  "language_info": {
   "codemirror_mode": {
    "name": "ipython",
    "version": 3
   },
   "file_extension": ".py",
   "mimetype": "text/x-python",
   "name": "python",
   "nbconvert_exporter": "python",
   "pygments_lexer": "ipython3",
   "version": "3.10.12"
  }
 },
 "nbformat": 4,
 "nbformat_minor": 2
}
